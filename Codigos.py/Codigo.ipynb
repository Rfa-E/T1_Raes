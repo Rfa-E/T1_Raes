{
 "cells": [
  {
   "cell_type": "code",
   "execution_count": 4,
   "metadata": {},
   "outputs": [
    {
     "ename": "ModuleNotFoundError",
     "evalue": "No module named 'numpy'",
     "output_type": "error",
     "traceback": [
      "\u001b[1;31m---------------------------------------------------------------------------\u001b[0m",
      "\u001b[1;31mModuleNotFoundError\u001b[0m                       Traceback (most recent call last)",
      "Cell \u001b[1;32mIn[4], line 1\u001b[0m\n\u001b[1;32m----> 1\u001b[0m \u001b[39mimport\u001b[39;00m \u001b[39mnumpy\u001b[39;00m \u001b[39mas\u001b[39;00m \u001b[39mnp\u001b[39;00m\n\u001b[0;32m      2\u001b[0m \u001b[39mimport\u001b[39;00m \u001b[39mmatplotlib\u001b[39;00m\u001b[39m.\u001b[39;00m\u001b[39mpyplot\u001b[39;00m \u001b[39mas\u001b[39;00m \u001b[39mplt\u001b[39;00m\n\u001b[0;32m      3\u001b[0m \u001b[39mimport\u001b[39;00m \u001b[39msoundfile\u001b[39;00m \u001b[39mas\u001b[39;00m \u001b[39msf\u001b[39;00m\n",
      "\u001b[1;31mModuleNotFoundError\u001b[0m: No module named 'numpy'"
     ]
    }
   ],
   "source": [
    "import numpy as np\n",
    "import matplotlib.pyplot as plt\n",
    "import soundfile as sf\n",
    "\n",
    "T= 2.5\n",
    "fm=8000\n",
    "fx=fm/2\n",
    "A=4\n",
    "pi=np.pi\n",
    "L = int(fm * T)\n",
    "Tm=1/fm\n",
    "t=Tm*np.arange(L)\n",
    "x = A * np.cos(2 * pi * fx * t)\n",
    "sf.write('so1_raes.wav', x, fm)\n",
    "\n",
    "Tx=1/fx\n",
    "Ls=int(fm*5*Tx)\n",
    "\n",
    "plt.figure(0)\n",
    "plt.plot(t[0:Ls], x[0:Ls])\n",
    "plt.xlabel('t en segons')\n",
    "plt.title('5 periodes de la sinusoide')\n",
    "plt.show()\n",
    "\n",
    "import sounddevice as sd\n",
    "sd.play(x, fm)\n",
    "\n",
    "from numpy.fft import fft\n",
    "N=5000\n",
    "X=fft(x[0 : Ls], N)\n",
    "\n",
    "k=np.arange(N)\n",
    "\n",
    "plt.figure(1)\n",
    "plt.subplot(211)\n",
    "plt.plot(k,abs(X))\n",
    "plt.title(f'Transformada del senyal de Ls={Ls} mostres amb DFT de N={N}')\n",
    "plt.ylabel('|X[k]|')\n",
    "plt.subplot(212)\n",
    "plt.plot(k,np.unwrap(np.angle(X)))\n",
    "plt.xlabel('Index k')\n",
    "plt.ylabel('$\\phi_x[k]$')\n",
    "plt.show()"
   ]
  }
 ],
 "metadata": {
  "kernelspec": {
   "display_name": "Python 3",
   "language": "python",
   "name": "python3"
  },
  "language_info": {
   "codemirror_mode": {
    "name": "ipython",
    "version": 3
   },
   "file_extension": ".py",
   "mimetype": "text/x-python",
   "name": "python",
   "nbconvert_exporter": "python",
   "pygments_lexer": "ipython3",
   "version": "3.10.10"
  },
  "orig_nbformat": 4,
  "vscode": {
   "interpreter": {
    "hash": "188ae9ad3dab1741449643ca87ee56a7fbe10a346faa49195f1fa7f94e154528"
   }
  }
 },
 "nbformat": 4,
 "nbformat_minor": 2
}
