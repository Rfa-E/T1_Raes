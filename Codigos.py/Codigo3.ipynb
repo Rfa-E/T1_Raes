{
 "cells": [
  {
   "cell_type": "code",
   "execution_count": null,
   "metadata": {},
   "outputs": [],
   "source": [
    "import numpy as np\n",
    "import matplotlib.pyplot as plt\n",
    "import soundfile as sf\n",
    "import sounddevice as sd\n",
    "from numpy.fft import fft\n",
    "# import os\n",
    "\n",
    "T= 2.5\n",
    "fm=8000\n",
    "fx=500\n",
    "A=4\n",
    "pi=np.pi\n",
    "L = int(fm * T)\n",
    "Tm=1/fm\n",
    "t=Tm*np.arange(L)\n",
    "x = A * np.cos(2 * pi * fx * t)\n",
    "sf.write('so3_raes.wav', x, fm)\n",
    "Tx=1/fx\n",
    "Ls=int(fm*5*Tx)\n",
    "\n",
    "plt.figure(0)\n",
    "plt.plot(t[0:Ls], x[0:Ls])\n",
    "plt.xlabel('t en segons')\n",
    "plt.title('5 periodes de la sinusoide')\n",
    "plt.show()\n",
    "sd.play(x,fm)\n",
    "\n",
    "N=4000\n",
    "X=fft(x[0 : Ls], N)\n",
    "k=np.arange(N)\n",
    "X_dB = 20*np.log10(np.abs(X)/max(np.abs(X)))\n",
    "fk = k[0:N//2+1]*fm/N\n",
    "plt.figure(1)\n",
    "plt.subplot(211)   \n",
    "plt.plot(fk,X_dB[0:N//2+1])\n",
    "plt.title(f'Transformada del senyal de Ls={Ls} mostres amb DFT de N={N}')   \n",
    "plt.ylabel('Mòdul en dB')                  \n",
    "plt.subplot(212)                      \n",
    "plt.plot(fk,np.unwrap(np.angle(X[0:N//2+1])) )   \n",
    "plt.xlabel('f en Hz')                \n",
    "plt.ylabel('$\\phi_x[k]$')              \n",
    "plt.show() "
   ]
  }
 ],
 "metadata": {
  "language_info": {
   "name": "python"
  },
  "orig_nbformat": 4
 },
 "nbformat": 4,
 "nbformat_minor": 2
}
