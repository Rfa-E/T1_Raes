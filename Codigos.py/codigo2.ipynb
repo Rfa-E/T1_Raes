{
 "cells": [
  {
   "cell_type": "code",
   "execution_count": null,
   "metadata": {},
   "outputs": [],
   "source": [
    "import numpy as np\n",
    "\n",
    "import matplotlib.pyplot as plt\n",
    "\n",
    "import soundfile as sf\n",
    "\n",
    "import sounddevice as sd\n",
    "\n",
    "from numpy.fft import fft  \n",
    "\n",
    "x_r, fm = sf.read('so1_raes.wav')\n",
    "\n",
    "T = (1/fm)*len(x_r)\n",
    "Tm=1/fm \n",
    "\n",
    "L = int(fm * T) \n",
    "t=Tm*np.arange(L)\n",
    "\n",
    "fx=fm/2 \n",
    "Tx=1/fx\n",
    "Ls=int(fm*5*Tx)\n",
    "plt.figure(0)\n",
    "plt.plot(t[0:Ls], x_r[0:Ls])\n",
    "plt.xlabel('t en segons')\n",
    "plt.title('5 periodes de la sinusoide')\n",
    "plt.show()\n",
    "sd.play(x_r, fm)\n",
    "\n",
    "N=5000\n",
    "X_r=fft(x_r[0:Ls],N) \n",
    "k=np.arange(N)\n",
    "plt.figure(1)\n",
    "plt.subplot(211)\n",
    "plt.plot(k,abs(X_r))\n",
    "plt.title(f'Transformada del senyal de Ls={Ls} mostres amb DFT de N={N}')\n",
    "plt.ylabel('|X[k]|')\n",
    "plt.subplot(212)\n",
    "plt.plot(k,np.unwrap(np.angle(X_r)))\n",
    "plt.xlabel('Index k')\n",
    "plt.ylabel('$\\phi_x[k]$')\n",
    "plt.show()"
   ]
  }
 ],
 "metadata": {
  "language_info": {
   "name": "python"
  },
  "orig_nbformat": 4
 },
 "nbformat": 4,
 "nbformat_minor": 2
}
